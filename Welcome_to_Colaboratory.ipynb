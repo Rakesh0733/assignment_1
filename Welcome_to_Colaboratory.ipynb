{
  "nbformat": 4,
  "nbformat_minor": 0,
  "metadata": {
    "colab": {
      "name": "Welcome to Colaboratory",
      "provenance": [],
      "collapsed_sections": [],
      "include_colab_link": true
    },
    "kernelspec": {
      "display_name": "Python 3",
      "name": "python3"
    }
  },
  "cells": [
    {
      "cell_type": "markdown",
      "metadata": {
        "id": "view-in-github",
        "colab_type": "text"
      },
      "source": [
        "<a href=\"https://colab.research.google.com/github/Rakesh0733/assignment_1/blob/master/Welcome_to_Colaboratory.ipynb\" target=\"_parent\"><img src=\"https://colab.research.google.com/assets/colab-badge.svg\" alt=\"Open In Colab\"/></a>"
      ]
    },
    {
      "cell_type": "markdown",
      "metadata": {
        "id": "oDxJg0DD1KVK"
      },
      "source": [
        " Find minimum among three numbers"
      ]
    },
    {
      "cell_type": "code",
      "metadata": {
        "id": "FelIoJIk1Qyk",
        "outputId": "d02fd8d4-9e23-4a21-e581-f21726dfc56c",
        "colab": {
          "base_uri": "https://localhost:8080/",
          "height": 34
        }
      },
      "source": [
        " \n",
        "a,b,c=2,4,6\n",
        "if(a<=b and a<=c):\n",
        "  print(a,\"is the smallest\")\n",
        "elif(b<=a and b<=c):\n",
        "  print(b,\"is the smallest\")\n",
        "else:\n",
        "  print(c,\"is the smallest\")"
      ],
      "execution_count": 13,
      "outputs": [
        {
          "output_type": "stream",
          "text": [
            "2 is the smallest\n"
          ],
          "name": "stdout"
        }
      ]
    },
    {
      "cell_type": "markdown",
      "metadata": {
        "id": "AZiqihZX1edd"
      },
      "source": [
        " Find the GCD and LCM of two/three nunbers"
      ]
    },
    {
      "cell_type": "code",
      "metadata": {
        "id": "BP05RDpy1fbx",
        "outputId": "58d2de8e-70c3-4060-e8b6-4d8971cd3b3d",
        "colab": {
          "base_uri": "https://localhost:8080/",
          "height": 34
        }
      },
      "source": [
        " \n",
        "def compute_gcd(x,y):\n",
        "  while(y):\n",
        "    x,y=y,x%y\n",
        "  return x\n",
        "def compute_lcm(x,y):\n",
        "  lcm=(x*y)//compute_gcd(x,y)\n",
        "  return lcm\n",
        "num1=28\n",
        "num2=92\n",
        "print(\"The L.C.M. is\",compute_lcm(num1,num2))"
      ],
      "execution_count": 6,
      "outputs": [
        {
          "output_type": "stream",
          "text": [
            "The L.C.M. is 644\n"
          ],
          "name": "stdout"
        }
      ]
    },
    {
      "cell_type": "markdown",
      "metadata": {
        "id": "rmWmDZ-w1-od"
      },
      "source": [
        ""
      ]
    },
    {
      "cell_type": "markdown",
      "metadata": {
        "id": "XMVWomMS1kEo"
      },
      "source": [
        " Check whether the given number is  perfect"
      ]
    },
    {
      "cell_type": "code",
      "metadata": {
        "id": "CnuThGT01txR",
        "outputId": "c6fe538d-6b25-4999-be02-ae3a27d3751b",
        "colab": {
          "base_uri": "https://localhost:8080/",
          "height": 51
        }
      },
      "source": [
        " \n",
        "n=int(input(\"Enter any number\"))\n",
        "sum1=0\n",
        "for i in range(1,n):\n",
        "  if(n%i==0):\n",
        "    sum1=sum1+i\n",
        "  if(sum1==n):\n",
        "    print(\"The number is a perfect number\")\n",
        "  else:\n",
        "    print(\"The number is not a perfect number\")"
      ],
      "execution_count": 5,
      "outputs": [
        {
          "output_type": "stream",
          "text": [
            "Enter any number2\n",
            "The number is not a perfect number\n"
          ],
          "name": "stdout"
        }
      ]
    },
    {
      "cell_type": "markdown",
      "metadata": {
        "id": "hEOHPEMd1xL7"
      },
      "source": [
        " Print twin primes upto specified limit"
      ]
    },
    {
      "cell_type": "code",
      "metadata": {
        "id": "Xy1iujM811d-",
        "outputId": "3ca098d6-db84-4807-88f2-42121d0ee0ea",
        "colab": {
          "base_uri": "https://localhost:8080/",
          "height": 205
        }
      },
      "source": [
        " \n",
        "lower=2\n",
        "upper=10\n",
        "print(\"prime numbers between\",lower, \"and\", upper, \"are:\")\n",
        "for num in range(lower,upper+1):\n",
        "  if num>1:\n",
        "    for i in range(2,num):\n",
        "      if(num%i)==0:\n",
        "        break\n",
        "      else:\n",
        "        print(num)"
      ],
      "execution_count": 7,
      "outputs": [
        {
          "output_type": "stream",
          "text": [
            "prime numbers between 2 and 10 are:\n",
            "3\n",
            "5\n",
            "5\n",
            "5\n",
            "7\n",
            "7\n",
            "7\n",
            "7\n",
            "7\n",
            "9\n"
          ],
          "name": "stdout"
        }
      ]
    },
    {
      "cell_type": "markdown",
      "metadata": {
        "id": "1bc8mQE42IIC"
      },
      "source": [
        " Find the sum of digits of the nunbers.Check the whether the given number is Armstrong number Or not"
      ]
    },
    {
      "cell_type": "code",
      "metadata": {
        "id": "wPqvtNSK2TXd",
        "outputId": "fe865703-9621-49d8-d429-9fb18016039e",
        "colab": {
          "base_uri": "https://localhost:8080/",
          "height": 198
        }
      },
      "source": [
        " \n",
        "num=int(input(\"Enter a number:\"))\n",
        "sum=0\n",
        "temp=num\n",
        "while temp>0:\n",
        "  digit=temp%10\n",
        "  sum+=digit**3\n",
        "  temp//=10\n",
        "if num==sum:\n",
        "  print(num,\"is an Armstong number\")\n",
        "else:\n",
        "  print(num,\"is not an Armstong number\""
      ],
      "execution_count": 9,
      "outputs": [
        {
          "output_type": "error",
          "ename": "SyntaxError",
          "evalue": "ignored",
          "traceback": [
            "\u001b[0;36m  File \u001b[0;32m\"<ipython-input-9-819fc2970026>\"\u001b[0;36m, line \u001b[0;32m12\u001b[0m\n\u001b[0;31m    print(num,\"is not an Armstong number\"\u001b[0m\n\u001b[0m                                         ^\u001b[0m\n\u001b[0;31mSyntaxError\u001b[0m\u001b[0;31m:\u001b[0m unexpected EOF while parsing\n"
          ]
        }
      ]
    },
    {
      "cell_type": "markdown",
      "metadata": {
        "id": "tMhIGdXB2aqm"
      },
      "source": [
        " Snapping of two numbers"
      ]
    },
    {
      "cell_type": "code",
      "metadata": {
        "id": "uaskH2nV2fGy",
        "outputId": "d718b8aa-c41b-414b-a0d4-1b2af92c8866",
        "colab": {
          "base_uri": "https://localhost:8080/",
          "height": 51
        }
      },
      "source": [
        " \n",
        "x=4\n",
        "y=2\n",
        "temp=x\n",
        "x=y\n",
        "y=temp\n",
        "print('The value of x after swapping: {}'.format(x))\n",
        "print('The value of y after swapping: {}'.format(y))"
      ],
      "execution_count": 10,
      "outputs": [
        {
          "output_type": "stream",
          "text": [
            "The value of x after swapping: 2\n",
            "The value of y after swapping: 4\n"
          ],
          "name": "stdout"
        }
      ]
    },
    {
      "cell_type": "markdown",
      "metadata": {
        "id": "-anWBTPK2jg8"
      },
      "source": [
        " Preforms all of the Five Arithmetic Operations"
      ]
    },
    {
      "cell_type": "code",
      "metadata": {
        "id": "g3LZ5Pgx2mYP",
        "outputId": "3c7d74eb-f04a-4d6d-977e-156426a27590",
        "colab": {
          "base_uri": "https://localhost:8080/",
          "height": 139
        }
      },
      "source": [
        " \n",
        "num1=input('Enter first number:')\n",
        "num2=input('Enter second number:')\n",
        "sum =float(num1)+float(num)\n",
        "sub =float(num1)-float(num2)\n",
        "mul =float(num1)*float(num2)\n",
        "div =float(num1)/float(num2)\n",
        "print(\"The Addition of {0} and {1} is {2}\".format(num1,num2,sum))\n",
        "print(\"The subtraction of {0} and {1} is {2}\".format(num1,num2,sub))\n",
        "print(\"The multiplication of {0} and {1} is {2}\".format(num1,num2,mul))\n",
        "print(\"The division of {0} and {1} is {2}\".format(num1,num2,div))"
      ],
      "execution_count": 11,
      "outputs": [
        {
          "output_type": "stream",
          "text": [
            "Enter first number:2\n",
            "Enter second number:3\n",
            "The Addition of 2 and 3 is 12.0\n",
            "The subtraction of 2 and 3 is -1.0\n",
            "The multiplication of 2 and 3 is 6.0\n",
            "The division of 2 and 3 is 0.6666666666666666\n"
          ],
          "name": "stdout"
        }
      ]
    }
  ]
}