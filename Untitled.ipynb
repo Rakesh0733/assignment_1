{
  "nbformat": 4,
  "nbformat_minor": 0,
  "metadata": {
    "colab": {
      "name": "Untitled",
      "provenance": [],
      "authorship_tag": "ABX9TyOk5pGls7ee4fgGUwj2HH9d",
      "include_colab_link": true
    },
    "kernelspec": {
      "name": "python3",
      "display_name": "Python 3"
    }
  },
  "cells": [
    {
      "cell_type": "markdown",
      "metadata": {
        "id": "view-in-github",
        "colab_type": "text"
      },
      "source": [
        "<a href=\"https://colab.research.google.com/github/Rakesh0733/assignment_1/blob/master/Untitled.ipynb\" target=\"_parent\"><img src=\"https://colab.research.google.com/assets/colab-badge.svg\" alt=\"Open In Colab\"/></a>"
      ]
    },
    {
      "cell_type": "markdown",
      "metadata": {
        "id": "6yYFICcyNBLN"
      },
      "source": [
        " 1. Print \"Hello World\""
      ]
    },
    {
      "cell_type": "code",
      "metadata": {
        "id": "ybZ1BvvDNOrR",
        "outputId": "7b248564-07bd-4eb9-fff3-72a278c17908",
        "colab": {
          "base_uri": "https://localhost:8080/",
          "height": 34
        }
      },
      "source": [
        " print(\"Hello World!\")"
      ],
      "execution_count": null,
      "outputs": [
        {
          "output_type": "stream",
          "text": [
            "Hello World!\n"
          ],
          "name": "stdout"
        }
      ]
    },
    {
      "cell_type": "markdown",
      "metadata": {
        "id": "t3a1I8sRNaHh"
      },
      "source": [
        "2.Compute Arithmetic Operations(+, -, *, /, %)"
      ]
    },
    {
      "cell_type": "code",
      "metadata": {
        "id": "5uU8D2_FOGPi",
        "outputId": "11bca30e-000a-49c0-dbff-a645aa14cdc9",
        "colab": {
          "base_uri": "https://localhost:8080/",
          "height": 136
        }
      },
      "source": [
        " num1=int(input('Enter the first number'))\n",
        "num2=int(input('Enter the second number'))\n",
        "add=num1+num2\n",
        "dif=num1-num2\n",
        "mul=num1*num2\n",
        "div=num1/num2\n",
        "modulus=num1%num2\n",
        "print('Addition of',num1,'and',num2,'is:',add)\n",
        "print('Difference of',num1,'and',num2,'is:',dif)\n",
        "print('Multiplication of',num1,'and',num2,'is:',mul)\n",
        "print('Division of',num1,'and',num2,'is:',div)\n",
        "print('Modulus of',num1,'and',num2,'is:',modulus)"
      ],
      "execution_count": null,
      "outputs": [
        {
          "output_type": "stream",
          "text": [
            "Enter the first number2\n",
            "Enter the second number4\n",
            "Addition of 2 and 4 is: 6\n",
            "Difference of 2 and 4 is: -2\n",
            "Multiplication of 2 and 4 is: 8\n",
            "Division of 2 and 4 is: 0.5\n",
            "Modulus of 2 and 4 is: 2\n"
          ],
          "name": "stdout"
        }
      ]
    },
    {
      "cell_type": "markdown",
      "metadata": {
        "id": "tj3Wph92Oh6H"
      },
      "source": [
        "3.Demonstrate the Relational operators(>=,<=,==,|=)"
      ]
    },
    {
      "cell_type": "code",
      "metadata": {
        "id": "yjQl0eWROruk",
        "outputId": "307e90fb-b245-43e2-8eac-3a1bf22c4298",
        "colab": {
          "base_uri": "https://localhost:8080/",
          "height": 85
        }
      },
      "source": [
        "a=30\n",
        "b=50\n",
        "print(a>=b)\n",
        "print(a<=b)\n",
        "print(a==b)\n",
        "print(a!=b)"
      ],
      "execution_count": null,
      "outputs": [
        {
          "output_type": "stream",
          "text": [
            "False\n",
            "True\n",
            "False\n",
            "True\n"
          ],
          "name": "stdout"
        }
      ]
    },
    {
      "cell_type": "markdown",
      "metadata": {
        "id": "q5VIjPIzUdba"
      },
      "source": [
        "4.Demonstrate the Logical operators(&&,||,|)"
      ]
    },
    {
      "cell_type": "code",
      "metadata": {
        "id": "Ydi34AzPUl2h",
        "outputId": "53805f4a-9c59-4b09-896f-4f841cd2c908",
        "colab": {
          "base_uri": "https://localhost:8080/",
          "height": 68
        }
      },
      "source": [
        " x=True\n",
        "y=False\n",
        "print('x and y is',x and y)\n",
        "print('x and y is',x or y)\n",
        "print('x and y is',not x)"
      ],
      "execution_count": 10,
      "outputs": [
        {
          "output_type": "stream",
          "text": [
            "x and y is False\n",
            "x and y is True\n",
            "x and y is False\n"
          ],
          "name": "stdout"
        }
      ]
    },
    {
      "cell_type": "markdown",
      "metadata": {
        "id": "5a7cN94hUq1R"
      },
      "source": [
        "5.Demonstrate the shorthand Assigment Operator(=,+=,-=,*=,/=,%=)"
      ]
    },
    {
      "cell_type": "code",
      "metadata": {
        "id": "cMHlyhUiUvHl",
        "outputId": "5a0f140b-d01a-487e-d1b2-a9c6f5eb82c6",
        "colab": {
          "base_uri": "https://localhost:8080/",
          "height": 119
        }
      },
      "source": [
        " x=12\n",
        "y=18\n",
        "x=y\n",
        "print(x)\n",
        "x+=y\n",
        "print(x)\n",
        "x-=y\n",
        "print(x)\n",
        "x*=y\n",
        "print(x)\n",
        "x/=y\n",
        "print(x)\n",
        "x%=y\n",
        "print(x)"
      ],
      "execution_count": 11,
      "outputs": [
        {
          "output_type": "stream",
          "text": [
            "18\n",
            "36\n",
            "18\n",
            "324\n",
            "18.0\n",
            "0.0\n"
          ],
          "name": "stdout"
        }
      ]
    },
    {
      "cell_type": "markdown",
      "metadata": {
        "id": "fDx8cOAxU19R"
      },
      "source": [
        "6.Demonstrate the Increment and Decrement Operators(++,--)"
      ]
    },
    {
      "cell_type": "code",
      "metadata": {
        "id": "qOwC4HHmU8XM",
        "outputId": "8d35eaa2-0505-4b04-d3c5-2d810472e192",
        "colab": {
          "base_uri": "https://localhost:8080/",
          "height": 324
        }
      },
      "source": [
        " print(\"Increment For Loop\")\n",
        "for i in range(0,10):\n",
        "  print(i)\n",
        "print(\"\\n Decrement For Loop\")\n",
        "for i in range(4,-1,-1):\n",
        "  print(i)"
      ],
      "execution_count": 12,
      "outputs": [
        {
          "output_type": "stream",
          "text": [
            "Increment For Loop\n",
            "0\n",
            "1\n",
            "2\n",
            "3\n",
            "4\n",
            "5\n",
            "6\n",
            "7\n",
            "8\n",
            "9\n",
            "\n",
            " Decrement For Loop\n",
            "4\n",
            "3\n",
            "2\n",
            "1\n",
            "0\n"
          ],
          "name": "stdout"
        }
      ]
    },
    {
      "cell_type": "markdown",
      "metadata": {
        "id": "Sd0f2jhWVAVe"
      },
      "source": [
        "7.Find greatest of two numbers using Conditional Operator(?:)"
      ]
    },
    {
      "cell_type": "code",
      "metadata": {
        "id": "_Sm-rBx9VERS",
        "outputId": "5fb09bd7-33a3-49c2-f6d5-08ded99cc6cc",
        "colab": {
          "base_uri": "https://localhost:8080/",
          "height": 34
        }
      },
      "source": [
        " n1=10\n",
        "n2=20\n",
        "mx=n1 if n1>n2 else n2\n",
        "print(\"Largest number between\"+ str(n1) + \"and\" + str(n2) + \"is\" + str(mx))"
      ],
      "execution_count": 13,
      "outputs": [
        {
          "output_type": "stream",
          "text": [
            "Largest number between10and20is20\n"
          ],
          "name": "stdout"
        }
      ]
    },
    {
      "cell_type": "markdown",
      "metadata": {
        "id": "xKr3AlpIVL1A"
      },
      "source": [
        "8.Find the greatest of three numbers using conditional operator"
      ]
    },
    {
      "cell_type": "code",
      "metadata": {
        "id": "62uNtHwHVgJC",
        "outputId": "458a9054-f65e-48ca-f5c6-53bbaf0c4996",
        "colab": {
          "base_uri": "https://localhost:8080/",
          "height": 34
        }
      },
      "source": [
        " n1=20\n",
        "n2=30\n",
        "n3=50\n",
        "mx=(n1 if (n1>n2 and n1 > n3)\n",
        "       else (n2 if (n2>n3) else n3))\n",
        "      \n",
        "print(\"Largest number between\" + str(n1) + \",\" + str(n2) + \"and\" + str(n3) + \"is\" + str(mx))"
      ],
      "execution_count": 15,
      "outputs": [
        {
          "output_type": "stream",
          "text": [
            "Largest number between20,30and50is50\n"
          ],
          "name": "stdout"
        }
      ]
    },
    {
      "cell_type": "markdown",
      "metadata": {
        "id": "ygePueKEVqT1"
      },
      "source": [
        "9.Demonstrate the Bitwise Operators(&,|,^,<<,>>,~)"
      ]
    },
    {
      "cell_type": "code",
      "metadata": {
        "id": "540vS3zPVuYw",
        "outputId": "90827a0c-2dc2-4833-9872-dba6e6d62992",
        "colab": {
          "base_uri": "https://localhost:8080/",
          "height": 139
        }
      },
      "source": [
        " a=20\n",
        "b=50\n",
        "c=10\n",
        "c=a&b;\n",
        "print(\"Line1 - Value of c is\",c)\n",
        "c=a|b;\n",
        "print(\"Line2 - Value of c is\",c)\n",
        "c=a^b;\n",
        "print(\"Line3 - Value of c is\",c)\n",
        "c=a<<b;\n",
        "print(\"Line4 - Value of c is\",c)\n",
        "c=a>>b;\n",
        "print(\"Line5 - Value of c is\",c)\n",
        "c=~a;\n",
        "print(\"Line6 - Value of c is\",c)"
      ],
      "execution_count": 16,
      "outputs": [
        {
          "output_type": "stream",
          "text": [
            "Line1 - Value of c is 16\n",
            "Line2 - Value of c is 54\n",
            "Line3 - Value of c is 38\n",
            "Line4 - Value of c is 22517998136852480\n",
            "Line5 - Value of c is 0\n",
            "Line6 - Value of c is -21\n"
          ],
          "name": "stdout"
        }
      ]
    },
    {
      "cell_type": "markdown",
      "metadata": {
        "id": "SMY3WDBpV3Nx"
      },
      "source": [
        "10.Compute addition of two numbers.(Subtraction,Multiplication,Division,to find the Remainder)"
      ]
    },
    {
      "cell_type": "code",
      "metadata": {
        "id": "ZOmOXrIUV8Uh",
        "outputId": "ab5f6556-5562-4df5-e9af-c50ba0c22305",
        "colab": {
          "base_uri": "https://localhost:8080/",
          "height": 139
        }
      },
      "source": [
        " num1=int(input(\"Enter the first number:\"))\n",
        "num2=int(input(\"Enter the second number:\"))\n",
        "print(\"Enter any of these operator you want to perform\");\n",
        "ch=input(\"Enter any of these operator for operation +, -, *, /\")\n",
        "result=0\n",
        "if ch=='+':\n",
        "  result=num1+num2;\n",
        "elif ch=='-':\n",
        "  result=num1-num2;\n",
        "elif ch=='*':\n",
        "  result=num1*num2;\n",
        "elif ch=='/':\n",
        "  result=num1/num2;\n",
        "else:\n",
        "  print(\"char is  not supported\");\n",
        "print(num1,ch,num2,\":\",result)"
      ],
      "execution_count": 17,
      "outputs": [
        {
          "output_type": "stream",
          "text": [
            "Enter the first number:2\n",
            "Enter the second number:4\n",
            "Enter any of these operator you want to perform\n",
            "Enter any of these operator for operation +, -, *, /2\n",
            "char is  not supported\n",
            "2 2 4 : 0\n"
          ],
          "name": "stdout"
        }
      ]
    }
  ]
}